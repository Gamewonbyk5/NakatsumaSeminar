{
 "cells": [
  {
   "cell_type": "code",
   "execution_count": 11,
   "metadata": {},
   "outputs": [
    {
     "name": "stdout",
     "output_type": "stream",
     "text": [
      "[[  10.00   16.61   10.45   18.32]\n",
      " [  10.00    6.14    9.53    8.02]\n",
      " [  10.00   -2.82    6.92    4.57]\n",
      " [  10.00    1.61    8.69   13.31]\n",
      " [  10.00   13.50    8.47   -5.66]\n",
      " [  10.00  -11.60    7.32  -15.97]\n",
      " [  10.00  -12.79    6.87   11.84]\n",
      " [  10.00   -2.06    8.69   16.22]\n",
      " [  10.00   76.67   20.39   28.79]\n",
      " [  10.00   14.73   12.66   20.55]]\n"
     ]
    }
   ],
   "source": [
    "import pandas as pd\n",
    "import numpy as np\n",
    "#   NumPyのLinalgモジュールの読み込み\n",
    "import numpy.linalg as lin\n",
    "#   SciPyのoptimizeモジュールの読み込み\n",
    "import scipy.optimize as opt\n",
    "#%% リスク寄与度の平準化によるポートフォリオ選択\n",
    "Data = pd.read_csv('190124_Nakatsuma_Finalreport_alldata.csv', index_col=0)\n",
    "R = Data.fillna(0)\n",
    "Mu = R.mean().values\n",
    "Stdev = R.std().values\n",
    "CorrMatrix = R.corr()\n",
    "Sigma = np.diag(Stdev).dot(CorrMatrix).dot(np.diag(Stdev))\n",
    "iota = np.ones(Mu.shape)\n",
    "inv_Sigma = lin.inv(Sigma)\n",
    "Weight_1N = np.tile(1.0/Mu.shape[0], Mu.shape[0])\n",
    "Weight_MV = inv_Sigma.dot(iota) / iota.dot(inv_Sigma).dot(iota)\n",
    "Weight_MD = inv_Sigma.dot(Stdev) / iota.dot(inv_Sigma).dot(Stdev)\n",
    "F = lambda v, Sigma: np.r_[Sigma.dot(v[:-1])-v[-1]/v[:-1], v[:-1].sum()-1.0]\n",
    "Weight_RP = opt.root(F, np.r_[Weight_1N, 0.0], args=Sigma).x[:-1]\n",
    "np.set_printoptions(formatter={'float': '{:7.2f}'.format})\n",
    "print(np.c_[Weight_1N, Weight_MV, Weight_RP, Weight_MD]*100)"
   ]
  },
  {
   "cell_type": "code",
   "execution_count": null,
   "metadata": {},
   "outputs": [],
   "source": []
  }
 ],
 "metadata": {
  "kernelspec": {
   "display_name": "Python 3",
   "language": "python",
   "name": "python3"
  },
  "language_info": {
   "codemirror_mode": {
    "name": "ipython",
    "version": 3
   },
   "file_extension": ".py",
   "mimetype": "text/x-python",
   "name": "python",
   "nbconvert_exporter": "python",
   "pygments_lexer": "ipython3",
   "version": "3.6.6"
  }
 },
 "nbformat": 4,
 "nbformat_minor": 2
}
