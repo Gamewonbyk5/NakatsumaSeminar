{
 "cells": [
  {
   "cell_type": "code",
   "execution_count": 136,
   "metadata": {},
   "outputs": [],
   "source": [
    "\n",
    "#%% NumPyの読み込み\n",
    "import numpy as np\n",
    "import numpy.polynomial.polynomial as pol\n",
    "import matplotlib.pyplot as plt\n",
    "\n",
    "#%% 債券価格の計算\n",
    "from matplotlib.font_manager import FontProperties\n",
    "import sys\n",
    "if sys.platform.startswith('win'):\n",
    "    FontPath = 'C:\\\\Windows\\\\Fonts\\\\meiryo.ttc'\n",
    "elif sys.platform.startswith('darwin'):\n",
    "    FontPath = '/System/Library/Fonts/ヒラギノ角ゴシック W4.ttc'\n",
    "elif sys.platform.startswith('linux'):\n",
    "    FontPath = '/usr/share/fonts/truetype/takao-gothic/TakaoPGothic.ttf'\n",
    "jpfont = FontProperties(fname=FontPath)\n",
    "\n",
    "#%% 債券価格の計算\n",
    "def Bond_Price(Yield, Maturity, CouponRate, FaceValue):\n",
    "    #      Yield: 債券利回り (%)\n",
    "    #   Maturity: 残存期間\n",
    "    # CouponRate: 表面利率 (%)\n",
    "    #  FaceValue: 額面\n",
    "    #     Output: 債券価格\n",
    "    Coupon = 0.01 * CouponRate * FaceValue\n",
    "    CF = np.r_[0.0, np.tile(Coupon, int(Maturity) - 1), FaceValue + Coupon]\n",
    "    return pol.polyval(1.0 / (1.0 + 0.01 * Yield), CF)\n",
    "#%% 債券デュレーションの計算\n",
    "def Bond_Duration(Yield, Maturity, CouponRate, FaceValue):\n",
    "    #      Yield: 債券利回り (%)\n",
    "    #   Maturity: 残存期間\n",
    "    # CouponRate: 表面利率 (%)\n",
    "    #  FaceValue: 額面\n",
    "    #     Output: 債券デュレーション\n",
    "    Price = Bond_Price(Yield, Maturity, CouponRate, FaceValue)\n",
    "    Coupon = 0.01 * CouponRate * FaceValue\n",
    "    CF = np.r_[np.tile(Coupon, int(Maturity) - 1), Coupon + FaceValue]\n",
    "    Coef = np.linspace(1, Maturity, Maturity) * CF\n",
    "    return pol.polyval(1.0 / (1.0 + 0.01 * Yield), np.r_[0.0, Coef]) / Price\n",
    "#%% 債券コンベクシティの計算\n",
    "def Bond_Convexity(Yield, Maturity, CouponRate, FaceValue):\n",
    "    #      Yield: 債券利回り (%)\n",
    "    #   Maturity: 残存期間\n",
    "    # CouponRate: 表面利率 (%)\n",
    "    #  FaceValue: 額面\n",
    "    #     Output: 債券コンベクシティ\n",
    "    Price = Bond_Price(Yield, Maturity, CouponRate, FaceValue)\n",
    "    Duration = Bond_Duration(Yield, Maturity, CouponRate, FaceValue)\n",
    "    Coupon = 0.01 * CouponRate * FaceValue\n",
    "    CF = np.r_[np.tile(Coupon, int(Maturity) - 1), Coupon + FaceValue]\n",
    "    Coef = (np.linspace(1, Maturity, Maturity) - Duration)**2 * CF\n",
    "    Dispersion = pol.polyval(1.0 / (1.0 + 0.01 * Yield), np.r_[0.0, Coef]) \\\n",
    "                 / Price\n",
    "    return (Dispersion + (1.0 + Duration) * Duration) / (1.0 + 0.01 * Yield)**2\n",
    "\n",
    "#債券価格・債券デュレーション・債券コンベクシティのリストを出す\n",
    "def Output_3(Yield, Maturity, CouponRate, FaceValue):\n",
    "    a = Bond_Price(Yield, Maturity, CouponRate, FaceValue)\n",
    "    b = Bond_Price(Yield, Maturity, CouponRate, FaceValue)\n",
    "    c = Bond_Convexity(Yield, Maturity, CouponRate, FaceValue)\n",
    "    return (a,b,c)"
   ]
  },
  {
   "cell_type": "code",
   "execution_count": 137,
   "metadata": {},
   "outputs": [
    {
     "name": "stderr",
     "output_type": "stream",
     "text": [
      "/Users/keigo/anaconda3/lib/python3.6/site-packages/ipykernel_launcher.py:38: DeprecationWarning: object of type <class 'numpy.float64'> cannot be safely interpreted as an integer.\n",
      "/Users/keigo/anaconda3/lib/python3.6/site-packages/ipykernel_launcher.py:51: DeprecationWarning: object of type <class 'numpy.float64'> cannot be safely interpreted as an integer.\n"
     ]
    },
    {
     "data": {
      "text/plain": [
       "array([[100.71770335, 100.71770335,   1.8314599 ],\n",
       "       [100.46650452, 100.46650452,   5.29498536],\n",
       "       [ 98.77338935,  98.77338935,  10.27529311],\n",
       "       [ 96.10849804,  96.10849804,  16.72359606],\n",
       "       [ 92.68040365,  92.68040365,  24.6531397 ],\n",
       "       [ 85.92340082,  85.92340082,  34.64272862],\n",
       "       [ 78.05153724,  78.05153724,  47.11520351],\n",
       "       [ 76.51516074,  76.51516074,  58.90798346],\n",
       "       [ 68.71512138,  68.71512138,  75.66162893],\n",
       "       [ 67.96509023,  67.96509023,  89.96160402]])"
      ]
     },
     "execution_count": 137,
     "metadata": {},
     "output_type": "execute_result"
    }
   ],
   "source": [
    "#%% 債券の価格・債券デュレーションとコンベクシティの計算\n",
    "\n",
    "#データの入力\n",
    "Coupon_List = np.array([[4.50,1,5.25,100]\n",
    "       ,[4.75,2,5.00,100]\n",
    "       ,[4.95,3,4.50,100]\n",
    "       ,[5.10,4,4.00,100]\n",
    "       ,[5.20,5,3.50,100]\n",
    "       ,[5.30,6,2.50,100]\n",
    "       ,[5.34,7,1.50,100]\n",
    "       ,[5.45,8,1.75,100]\n",
    "       ,[5.50,9,1.00,100]\n",
    "       ,[5.50,10,1.25,100]])\n",
    "\n",
    "#データから行列で債券価格・デュレーション・コンベクシティを出力\n",
    "for_Result = []\n",
    "for a in Coupon_List:\n",
    "    Yield = a[0]\n",
    "    Maturity = a[1]\n",
    "    CouponRate = a[2]\n",
    "    Facevalue = a[3]\n",
    "    Result = Output_3(Yield, Maturity, CouponRate, FaceValue)\n",
    "    for_Result.append(Result)\n",
    "Result_List = np.array(for_Result)\n",
    "Result_List"
   ]
  },
  {
   "cell_type": "code",
   "execution_count": 140,
   "metadata": {},
   "outputs": [
    {
     "data": {
      "image/png": "[encoded data removed]",
      "text/plain": [
       "<Figure size 432x288 with 1 Axes>"
      ]
     },
     "metadata": {
      "needs_background": "light"
     },
     "output_type": "display_data"
    }
   ],
   "source": [
    "#債券価格のみを取り出す\n",
    "V_price_A_List = []\n",
    "for A in Result_List:\n",
    "    VA1 = A[0]\n",
    "    V_price_A_List.append(VA1)\n",
    "#残存期間の設定\n",
    "V_Yield_List = np.linspace(0, 9, 10)\n",
    "#プロット\n",
    "plt.plot(V_Yield_List, (V_price_A_List / V_price_A_List[1])*100, 'k-')\n",
    "plt.xlabel(u'残存期間(t)', fontproperties=jpfont)\n",
    "plt.ylabel(u'債券価格', fontproperties=jpfont)\n",
    "Legend_A = u'債券A (D ={0:10f}，C ={1:10f})'.format(D_A, C_A)\n",
    "plt.legend(Legend_A, loc='best', frameon=False, prop=jpfont)\n",
    "plt.savefig('FinalReport2.png', dpi=300)\n",
    "plt.show()"
   ]
  },
  {
   "cell_type": "code",
   "execution_count": 139,
   "metadata": {},
   "outputs": [
    {
     "data": {
      "text/plain": [
       "array([ 9.49489963e-02, -1.51561395e+00,  2.30408502e+00,  1.00191124e+02])"
      ]
     },
     "execution_count": 139,
     "metadata": {},
     "output_type": "execute_result"
    }
   ],
   "source": [
    "#3次式での最小2乗法の推定\n",
    "coef_3 = np.polyfit(V_Yield_List,V_price_A_List,3) \n",
    "coef_3"
   ]
  },
  {
   "cell_type": "code",
   "execution_count": null,
   "metadata": {},
   "outputs": [],
   "source": []
  }
 ],
 "metadata": {
  "kernelspec": {
   "display_name": "Python 3",
   "language": "python",
   "name": "python3"
  },
  "language_info": {
   "codemirror_mode": {
    "name": "ipython",
    "version": 3
   },
   "file_extension": ".py",
   "mimetype": "text/x-python",
   "name": "python",
   "nbconvert_exporter": "python",
   "pygments_lexer": "ipython3",
   "version": "3.6.6"
  }
 },
 "nbformat": 4,
 "nbformat_minor": 2
}
