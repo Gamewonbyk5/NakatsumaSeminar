{
 "cells": [
  {
   "cell_type": "code",
   "execution_count": 41,
   "metadata": {},
   "outputs": [
    {
     "data": {
      "image/png": "[encoded data removed]",
      "text/plain": [
       "<Figure size 432x288 with 1 Axes>"
      ]
     },
     "metadata": {},
     "output_type": "display_data"
    }
   ],
   "source": [
    "# -*- coding: utf-8 -*-\n",
    "#   NumPyの読み込み\n",
    "import numpy as np\n",
    "#   NumPyのPolynomialモジュールの読み込み\n",
    "import numpy.polynomial.polynomial as pol\n",
    "#   MatplotlibのPyplotモジュールの読み込み\n",
    "import matplotlib.pyplot as plt\n",
    "import math\n",
    "#   日本語フォントの設定\n",
    "from matplotlib.font_manager import FontProperties\n",
    "import sys\n",
    "if sys.platform.startswith('win'):\n",
    "    FontPath = 'C:\\Windows\\Fonts\\meiryo.ttc'\n",
    "elif sys.platform.startswith('darwin'):\n",
    "    FontPath = '/System/Library/Fonts/ヒラギノ角ゴシック W4.ttc'\n",
    "elif sys.platform.startswith('linux'):\n",
    "    FontPath = '/usr/share/fonts/truetype/takao-gothic/TakaoExGothic.ttf'\n",
    "jpfont = FontProperties(fname=FontPath)\n",
    "#%% 債券利回りの計算\n",
    "def Bond_Yield(Price, Maturity, CouponRate, FaceValue):\n",
    "    CouponC=(math.log(1+0.01*CouponRate))*100 #年複利から連続複利の利率計算\n",
    "    Coupon = 0.01 * CouponC * FaceValue\n",
    "    CF = np.r_[-Price, np.tile(Coupon, int(Maturity) - 1), FaceValue + Coupon]\n",
    "    Roots = pol.polyroots(CF)\n",
    "    Real = np.real(Roots[np.isreal(Roots)])\n",
    "    Positive = np.asscalar(Real[Real > 0.0])\n",
    "    return (1.0 / Positive - 1.0) * 100\n",
    "#%% 債券価格の計算\n",
    "def Bond_Price(Yield, Maturity, CouponRate, FaceValue):\n",
    "    CouponC=(math.log(1+0.01*CouponRate))*100 #年複利から連続複利の利率計算\n",
    "    Coupon = 0.01 * CouponC * FaceValue\n",
    "    CF = np.r_[0.0, np.tile(Coupon, int(Maturity) - 1), FaceValue + Coupon]\n",
    "    return pol.polyval(1.0 / (1.0 + 0.01 * Yield), CF)\n",
    "#%% 債券の利回りと価格の計算\n",
    "#   利回り7%，残存期間7年，表面利率5%，額面100円の利付債の価格\n",
    "P_A = Bond_Price(7, 7, 5, 100)\n",
    "#   価格98円，残存期間5年，表面利率5%，額面100円の利付債の利回り\n",
    "Y_B = Bond_Yield(98, 5, 5, 100)\n",
    "#%% 債券の利回りと価格の関係を示すグラフの作成\n",
    "#   残存期間7年，表面利率5%，額面100円の利付債\n",
    "V_Yield = np.linspace(0, 12, 41)\n",
    "V_Price = np.array([Bond_Price(Yield, 7, 5, 100) for Yield in V_Yield])\n",
    "fig1 = plt.figure(1, facecolor = 'w')\n",
    "plt.plot(V_Yield, V_Price, 'r-')\n",
    "plt.xlabel(u'利回り', fontproperties=jpfont)\n",
    "plt.ylabel(u'価格', fontproperties=jpfont)\n",
    "plt.show()"
   ]
  },
  {
   "cell_type": "code",
   "execution_count": 38,
   "metadata": {},
   "outputs": [
    {
     "data": {
      "text/plain": [
       "88.56940565476111"
      ]
     },
     "execution_count": 38,
     "metadata": {},
     "output_type": "execute_result"
    }
   ],
   "source": [
    "P_A"
   ]
  },
  {
   "cell_type": "code",
   "execution_count": 42,
   "metadata": {},
   "outputs": [
    {
     "data": {
      "text/plain": [
       "5.3453852789322465"
      ]
     },
     "execution_count": 42,
     "metadata": {},
     "output_type": "execute_result"
    }
   ],
   "source": [
    "Y_B"
   ]
  },
  {
   "cell_type": "code",
   "execution_count": null,
   "metadata": {},
   "outputs": [],
   "source": []
  }
 ],
 "metadata": {
  "kernelspec": {
   "display_name": "Python 3",
   "language": "python",
   "name": "python3"
  },
  "language_info": {
   "codemirror_mode": {
    "name": "ipython",
    "version": 3
   },
   "file_extension": ".py",
   "mimetype": "text/x-python",
   "name": "python",
   "nbconvert_exporter": "python",
   "pygments_lexer": "ipython3",
   "version": "3.6.8"
  }
 },
 "nbformat": 4,
 "nbformat_minor": 2
}
