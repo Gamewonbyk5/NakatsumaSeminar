{
 "cells": [
  {
   "cell_type": "code",
   "execution_count": 11,
   "metadata": {},
   "outputs": [],
   "source": [
    "#%% NumPyの読み込み\n",
    "import numpy as np\n",
    "#   Pandasの読み込み\n",
    "import pandas as pd\n",
    "#   SciPyのoptimizeモジュールの読み込み\n",
    "import scipy.optimize as opt\n",
    "#   NumPyのLinalgモジュールの読み込み\n",
    "import numpy.linalg as lin"
   ]
  },
  {
   "cell_type": "code",
   "execution_count": 12,
   "metadata": {},
   "outputs": [],
   "source": [
    "#%% 収益率データの読み込み\n",
    "R = pd.read_csv('181126_Nakatsuma_report3_data.csv', index_col=0)\n",
    "T = R.shape[0]\n",
    "N = R.shape[1]\n",
    "Mu = R.mean().values\n",
    "Return_Dev = (R - Mu).values / np.sqrt(T)"
   ]
  },
  {
   "cell_type": "code",
   "execution_count": 13,
   "metadata": {},
   "outputs": [
    {
     "name": "stdout",
     "output_type": "stream",
     "text": [
      "[[  20.00   32.04   23.46   28.15]\n",
      " [  20.00   14.83   19.20   18.85]\n",
      " [  20.00   25.03   20.78   19.12]\n",
      " [  20.00   22.34   19.76   22.47]\n",
      " [  20.00    5.76   16.80   11.41]]\n"
     ]
    }
   ],
   "source": [
    "#%% リスク寄与度の平準化によるポートフォリオ選択\n",
    "Stdev = R.std().values\n",
    "CorrMatrix = np.array([[1.00, 0.25, 0.18, 0.10, 0.25],\n",
    "                       [0.25, 1.00, 0.36, 0.20, 0.20],\n",
    "                       [0.18, 0.36, 1.00, 0.25, 0.36],\n",
    "                       [0.10, 0.20, 0.25, 1.00, 0.45],\n",
    "                       [0.25, 0.20, 0.36, 0.45, 1.00]])\n",
    "Sigma = np.diag(Stdev).dot(CorrMatrix).dot(np.diag(Stdev))\n",
    "iota = np.ones(Mu.shape)\n",
    "inv_Sigma = lin.inv(Sigma)\n",
    "Weight_1N = np.tile(1.0/Mu.shape[0], Mu.shape[0])\n",
    "Weight_MV = inv_Sigma.dot(iota) / iota.dot(inv_Sigma).dot(iota)\n",
    "Weight_MD = inv_Sigma.dot(Stdev) / iota.dot(inv_Sigma).dot(Stdev)\n",
    "F = lambda v, Sigma: np.r_[Sigma.dot(v[:-1])-v[-1]/v[:-1], v[:-1].sum()-1.0]\n",
    "Weight_RP = opt.root(F, np.r_[Weight_1N, 0.0], args=Sigma).x[:-1]\n",
    "np.set_printoptions(formatter={'float': '{:7.2f}'.format})\n",
    "print(np.c_[Weight_1N, Weight_MV, Weight_RP, Weight_MD]*100)"
   ]
  }
 ],
 "metadata": {
  "kernelspec": {
   "display_name": "Python 3",
   "language": "python",
   "name": "python3"
  },
  "language_info": {
   "codemirror_mode": {
    "name": "ipython",
    "version": 3
   },
   "file_extension": ".py",
   "mimetype": "text/x-python",
   "name": "python",
   "nbconvert_exporter": "python",
   "pygments_lexer": "ipython3",
   "version": "3.6.8"
  }
 },
 "nbformat": 4,
 "nbformat_minor": 2
}
