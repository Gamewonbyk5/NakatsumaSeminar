{
 "cells": [
  {
   "cell_type": "code",
   "execution_count": 17,
   "metadata": {},
   "outputs": [],
   "source": [
    "# -*- coding: utf-8 -*-\n",
    "#%% NumPyの読み込み\n",
    "import numpy as np\n",
    "#   MatplotlibのPyplotモジュールの読み込み\n",
    "import matplotlib.pyplot as plt\n",
    "#   日本語フォントの設定\n",
    "from matplotlib.font_manager import FontProperties\n",
    "import sys\n",
    "if sys.platform.startswith('win'):\n",
    "    FontPath = 'C:\\\\Windows\\\\Fonts\\\\meiryo.ttc'\n",
    "elif sys.platform.startswith('darwin'):\n",
    "    FontPath = '/System/Library/Fonts/ヒラギノ角ゴシック W4.ttc'\n",
    "elif sys.platform.startswith('linux'):\n",
    "    FontPath = '/usr/share/fonts/truetype/takao-gothic/TakaoPGothic.ttf'\n",
    "jpfont = FontProperties(fname=FontPath)"
   ]
  },
  {
   "cell_type": "code",
   "execution_count": null,
   "metadata": {},
   "outputs": [],
   "source": [
    "#%% 単利と複利の比較\n",
    "r = 0.2\n",
    "Maturity = 10\n",
    "Simple_Rate = 1.0 + r * np.linspace(0, Maturity, Maturity + 1)\n",
    "Compound_1year = np.r_[1.0, np.cumprod(np.tile(1.0 + r, Maturity))]\n",
    "Compound_6month = np.r_[1.0, np.cumprod(np.tile((1.0 + r/2.0)**2, Maturity))]\n",
    "Continuous_Rate = np.exp(r*np.linspace(0, Maturity, Maturity + 1))\n",
    "fig1 = plt.figure(1, facecolor='w')\n",
    "plt.plot(Simple_Rate, 'r-')\n",
    "plt.plot(Compound_1year, 'b--')\n",
    "plt.plot(Compound_6month, 'g-.')\n",
    "plt.plot(Continuous_Rate, 'm:')\n",
    "plt.legend([u'単利', u'1年複利', u'半年複利', u'連続複利'],loc='upper left', frameon=False, prop=jpfont)\n",
    "plt.xlabel(u'時点 t', fontproperties=jpfont)\n",
    "plt.ylabel(u'総収益 W(t)/W(0)', fontproperties=jpfont)\n",
    "plt.show()"
   ]
  },
  {
   "cell_type": "code",
   "execution_count": 23,
   "metadata": {},
   "outputs": [
    {
     "ename": "SyntaxError",
     "evalue": "invalid character in identifier (<ipython-input-23-600ba2faa267>, line 12)",
     "output_type": "error",
     "traceback": [
      "\u001b[0;36m  File \u001b[0;32m\"<ipython-input-23-600ba2faa267>\"\u001b[0;36m, line \u001b[0;32m12\u001b[0m\n\u001b[0;31m    loc='upper left', frameon=False, prop=jpfont)\u001b[0m\n\u001b[0m      ^\u001b[0m\n\u001b[0;31mSyntaxError\u001b[0m\u001b[0;31m:\u001b[0m invalid character in identifier\n"
     ]
    }
   ],
   "source": [
    "plt.legend([u'単利', u'1年複利', u'半年複利', u'連続複利'],\n",
    "          loc='upper left', frameon=False, prop=jpfont)\n",
    "plt.xlabel(u'時点 t', fontproperties=jpfont)\n",
    "plt.ylabel(u'総収益 W(t)/W(0)', fontproperties=jpfont)\n",
    "plt.show()"
   ]
  },
  {
   "cell_type": "code",
   "execution_count": null,
   "metadata": {},
   "outputs": [],
   "source": []
  }
 ],
 "metadata": {
  "kernelspec": {
   "display_name": "Python 3",
   "language": "python",
   "name": "python3"
  },
  "language_info": {
   "codemirror_mode": {
    "name": "ipython",
    "version": 3
   },
   "file_extension": ".py",
   "mimetype": "text/x-python",
   "name": "python",
   "nbconvert_exporter": "python",
   "pygments_lexer": "ipython3",
   "version": "3.6.8"
  }
 },
 "nbformat": 4,
 "nbformat_minor": 2
}
